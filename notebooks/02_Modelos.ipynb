{
 "cells": [
  {
   "cell_type": "markdown",
   "id": "123c5be7",
   "metadata": {},
   "source": [
    "# Modelos de predicción"
   ]
  },
  {
   "cell_type": "markdown",
   "id": "6f6b99b2",
   "metadata": {},
   "source": [
    "<ul>\n",
    "<li> Autores: Pablo Carretero Collado y Ramón Guerrero Morales</li>\n",
    "<li> Fecha: 16/12/2021</li>\n",
    "<li> Email: pablo.carretero@cunef.edu y ramon.guerrero@cunef.edu</li>\n",
    "<li> Centro: CUNEF Universidad</li>    \n",
    "</ul>"
   ]
  },
  {
   "cell_type": "markdown",
   "id": "a94f7c21",
   "metadata": {},
   "source": [
    "## Librerias"
   ]
  },
  {
   "cell_type": "code",
   "execution_count": 1,
   "id": "5393fda2",
   "metadata": {},
   "outputs": [],
   "source": [
    "import pandas as pd \n",
    "import numpy as np\n",
    "import sklearn\n",
    "from sklearn.pipeline import Pipeline\n",
    "from sklearn import metrics\n",
    "from sklearn.metrics import classification_report, confusion_matrix, roc_curve, auc, \\\n",
    "                            silhouette_score, recall_score, precision_score, make_scorer, \\\n",
    "                            roc_auc_score, f1_score, precision_recall_curve, plot_confusion_matrix, accuracy_score\n",
    "import category_encoders as ce\n",
    "from sklearn.preprocessing import OneHotEncoder\n",
    "import matplotlib.pyplot as plt\n",
    "import seaborn as sns\n",
    "from sklearn.feature_selection import SelectFromModel\n",
    "from sklearn.linear_model import LogisticRegression\n",
    "import joblib\n",
    "import time\n",
    "from sklearn.ensemble import RandomForestClassifier\n",
    "from sklearn.preprocessing import StandardScaler\n",
    "from sklearn.compose import ColumnTransformer\n",
    "from sklearn import svm\n",
    "import lightgbm\n",
    "from lightgbm import LGBMClassifier\n",
    "import xgboost as xgb\n",
    "from xgboost import XGBClassifier\n",
    "import sys\n",
    "import pickle\n",
    "%matplotlib inline\n",
    "import statsmodels.api as sm\n",
    "from scipy import stats\n",
    "from sklearn.linear_model import SGDClassifier\n",
    "from sklearn.model_selection import GridSearchCV, RandomizedSearchCV"
   ]
  },
  {
   "cell_type": "markdown",
   "id": "c5ba79af",
   "metadata": {},
   "source": [
    "## Importación de datos "
   ]
  },
  {
   "cell_type": "code",
   "execution_count": 2,
   "id": "07143681",
   "metadata": {},
   "outputs": [],
   "source": [
    "collision_xtrain_scaled= pd.read_csv('collision_xtrain_SMOTE.csv')\n",
    "collision_ytrain= pd.read_csv('collision_ytrain_SMOTE.csv')\n",
    "collision_xtest_scaled= pd.read_csv(\"collision_xtest_SMOTE.csv\")\n",
    "collision_ytest= pd.read_csv(\"collision_ytest_SMOTE.csv\")"
   ]
  },
  {
   "cell_type": "markdown",
   "id": "75d4b9a6",
   "metadata": {},
   "source": [
    "## Selección de variable Lasso"
   ]
  },
  {
   "cell_type": "markdown",
   "id": "c42b7939",
   "metadata": {},
   "source": [
    "La regresion lasso (penalización L1) acepta coeficientes que sean 0 y si no se especifican parámetros, en este caso se queda con todas las variables cuyo coeficiente no sea cero. Para limitar el número de variables es necesario poner valor a los parámetros.  \n",
    "Lo que la Lasso consigue es que algunos coeficientes sean exactamente cero excluyendo así a los predictores menos influyentes para el modelo, por lo que realiza selección de variables para la predicción."
   ]
  },
  {
   "cell_type": "markdown",
   "id": "600b8cdc",
   "metadata": {},
   "source": [
    "### LASSO"
   ]
  },
  {
   "cell_type": "code",
   "execution_count": 3,
   "id": "5e0f610b",
   "metadata": {
    "scrolled": true
   },
   "outputs": [
    {
     "name": "stderr",
     "output_type": "stream",
     "text": [
      "/Users/ramonguerreromorales/opt/anaconda3/envs/Practica1/lib/python3.9/site-packages/sklearn/utils/validation.py:985: DataConversionWarning: A column-vector y was passed when a 1d array was expected. Please change the shape of y to (n_samples, ), for example using ravel().\n",
      "  y = column_or_1d(y, warn=True)\n"
     ]
    },
    {
     "name": "stdout",
     "output_type": "stream",
     "text": [
      "El tiempo de ejecucion para lasso es: 10.495149850845337\n"
     ]
    }
   ],
   "source": [
    "start_l = time.time()\n",
    "\n",
    "sel_lasso = SelectFromModel(LogisticRegression(C=1, penalty='l1', \n",
    "                                          solver='liblinear',random_state = 0),\n",
    "                            threshold = 0.025)\n",
    "sel_lasso = sel_lasso.fit(collision_xtrain_scaled, collision_ytrain)\n",
    "\n",
    "end_l = time.time()\n",
    "\n",
    "print(\"El tiempo de ejecucion para lasso es:\", end_l-start_l)"
   ]
  },
  {
   "cell_type": "markdown",
   "id": "9f365e9e",
   "metadata": {},
   "source": [
    "### Guardamos el Lasso con Pickle"
   ]
  },
  {
   "cell_type": "code",
   "execution_count": 4,
   "id": "cbb1b8c7",
   "metadata": {},
   "outputs": [],
   "source": [
    "filename_lasso = 'finalized_lasso.sav'\n",
    "pickle.dump(sel_lasso, open(filename_lasso, 'wb'))"
   ]
  },
  {
   "cell_type": "markdown",
   "id": "3a40fc9d",
   "metadata": {},
   "source": [
    "### Cargamos el Lasso con Pickle"
   ]
  },
  {
   "cell_type": "code",
   "execution_count": 5,
   "id": "102a0447",
   "metadata": {},
   "outputs": [],
   "source": [
    "filename_lasso = 'finalized_lasso.sav'\n",
    "sel_lasso = pickle.load(open(filename_lasso, 'rb'))"
   ]
  },
  {
   "cell_type": "code",
   "execution_count": 6,
   "id": "ac6a71d6",
   "metadata": {},
   "outputs": [
    {
     "data": {
      "text/plain": [
       "Index(['C_VEHS', 'C_CONF', 'C_RCFG', 'C_WTHR', 'C_RALN', 'C_TRAF', 'V_TYPE',\n",
       "       'P_SEX', 'P_AGE', 'P_PSN', 'P_SAFE', 'C_V_YEARS', 'cos_C_HOUR',\n",
       "       'sin_C_HOUR', 'cos_C_MNTH', 'sin_C_MNTH', 'cos_C_WDAY', 'sin_C_WDAY'],\n",
       "      dtype='object')"
      ]
     },
     "execution_count": 6,
     "metadata": {},
     "output_type": "execute_result"
    }
   ],
   "source": [
    "sel_lasso.get_support()\n",
    "selected_feat_lasso = collision_xtrain_scaled.columns[sel_lasso.get_support()]\n",
    "selected_feat_lasso"
   ]
  },
  {
   "cell_type": "code",
   "execution_count": 7,
   "id": "b4371a95",
   "metadata": {},
   "outputs": [
    {
     "name": "stdout",
     "output_type": "stream",
     "text": [
      "total features: 20\n",
      "selected features: 18\n"
     ]
    }
   ],
   "source": [
    "print('total features: {}'.format((collision_xtrain_scaled.shape[1])))\n",
    "print('selected features: {}'.format(len(selected_feat_lasso)))"
   ]
  },
  {
   "cell_type": "code",
   "execution_count": 8,
   "id": "1a1c9175",
   "metadata": {},
   "outputs": [
    {
     "data": {
      "text/plain": [
       "(3998415, 18)"
      ]
     },
     "execution_count": 8,
     "metadata": {},
     "output_type": "execute_result"
    }
   ],
   "source": [
    "collision_xtrain_scaled[selected_feat_lasso].shape"
   ]
  },
  {
   "cell_type": "code",
   "execution_count": 9,
   "id": "2e7eac97",
   "metadata": {},
   "outputs": [],
   "source": [
    "collision_xtrain_l = collision_xtrain_scaled[selected_feat_lasso]\n",
    "collision_xtest_l = collision_xtest_scaled[selected_feat_lasso]"
   ]
  },
  {
   "cell_type": "code",
   "execution_count": 10,
   "id": "044b868c",
   "metadata": {},
   "outputs": [],
   "source": [
    "collision_ytest = collision_ytest['C_SEV']"
   ]
  },
  {
   "cell_type": "markdown",
   "id": "8bc3b103",
   "metadata": {},
   "source": [
    "### Exportamos a CSV "
   ]
  },
  {
   "cell_type": "code",
   "execution_count": 11,
   "id": "fc6d2160",
   "metadata": {},
   "outputs": [],
   "source": [
    "collision_xtest_l.to_csv('collision_xtest_l.csv',header=True, index=False)"
   ]
  },
  {
   "cell_type": "code",
   "execution_count": 12,
   "id": "fdf7b646",
   "metadata": {},
   "outputs": [],
   "source": [
    "collision_xtrain_l.to_csv('collision_xtrain_l.csv',header=True, index=False)"
   ]
  },
  {
   "cell_type": "markdown",
   "id": "56b397ed",
   "metadata": {},
   "source": [
    "## Modelo GLM"
   ]
  },
  {
   "cell_type": "markdown",
   "id": "c19a5ed0",
   "metadata": {},
   "source": [
    "El GLM es un modelo lineal genaralizado que permite que hayan variables respuesta que tienen modelos de distribución de errores distintos de una distribución normal.  \n",
    "Generaliza la regresión lineal al permitir que el modelo lineal esté relacionado con la variable de respuesta a través de una función de enlace y al permitir que la magnitud de la varianza de cada medición sea una función de su valor predicho."
   ]
  },
  {
   "cell_type": "markdown",
   "id": "a0e49961",
   "metadata": {},
   "source": [
    "### Modelos binomiales de respuesta"
   ]
  },
  {
   "cell_type": "code",
   "execution_count": 13,
   "id": "dff1b779",
   "metadata": {},
   "outputs": [
    {
     "name": "stdout",
     "output_type": "stream",
     "text": [
      "El tiempo de ejecucion para GLM es: 14.74360203742981\n"
     ]
    }
   ],
   "source": [
    "start_glm = time.time()\n",
    "\n",
    "glm_binom = sm.GLM(collision_ytrain, collision_xtrain_l, family = sm.families.Binomial())\n",
    "res = glm_binom.fit()\n",
    "\n",
    "end_glm = time.time()\n",
    "\n",
    "print(\"El tiempo de ejecucion para GLM es:\", end_glm-start_glm)"
   ]
  },
  {
   "cell_type": "markdown",
   "id": "d239e54f",
   "metadata": {},
   "source": [
    "### Guardamos GLM con Pickle"
   ]
  },
  {
   "cell_type": "code",
   "execution_count": 14,
   "id": "b7aadb5c",
   "metadata": {},
   "outputs": [],
   "source": [
    "filename_glm = 'finalized_glm.sav'\n",
    "pickle.dump(res, open(filename_glm, 'wb'))"
   ]
  },
  {
   "cell_type": "markdown",
   "id": "c220f986",
   "metadata": {},
   "source": [
    "### Cargamos GLM"
   ]
  },
  {
   "cell_type": "code",
   "execution_count": 15,
   "id": "c486c02d",
   "metadata": {},
   "outputs": [],
   "source": [
    "res = pickle.load(open(filename_glm, 'rb'))"
   ]
  },
  {
   "cell_type": "markdown",
   "id": "6e059ec7",
   "metadata": {},
   "source": [
    "### Vemos un resumen del modelo"
   ]
  },
  {
   "cell_type": "code",
   "execution_count": 16,
   "id": "d82d6397",
   "metadata": {},
   "outputs": [
    {
     "name": "stdout",
     "output_type": "stream",
     "text": [
      "                 Generalized Linear Model Regression Results                  \n",
      "==============================================================================\n",
      "Dep. Variable:                  C_SEV   No. Observations:              3998415\n",
      "Model:                            GLM   Df Residuals:                  3998397\n",
      "Model Family:                Binomial   Df Model:                           17\n",
      "Link Function:                  logit   Scale:                          1.0000\n",
      "Method:                          IRLS   Log-Likelihood:            -2.5961e+06\n",
      "Date:                Sun, 19 Dec 2021   Deviance:                   5.1921e+06\n",
      "Time:                        17:38:01   Pearson chi2:                 4.08e+06\n",
      "No. Iterations:                     7   Pseudo R-squ. (CS):            -0.2438\n",
      "Covariance Type:            nonrobust                                         \n",
      "==============================================================================\n",
      "                 coef    std err          z      P>|z|      [0.025      0.975]\n",
      "------------------------------------------------------------------------------\n",
      "C_VEHS         0.0653      0.001     46.433      0.000       0.063       0.068\n",
      "C_CONF         0.3039      0.001    308.864      0.000       0.302       0.306\n",
      "C_RCFG         0.0332      0.001     26.164      0.000       0.031       0.036\n",
      "C_WTHR         0.0166      0.001     16.042      0.000       0.015       0.019\n",
      "C_RALN         0.0395      0.001     37.184      0.000       0.037       0.042\n",
      "C_TRAF         0.0763      0.001     59.020      0.000       0.074       0.079\n",
      "V_TYPE         0.0878      0.001     90.078      0.000       0.086       0.090\n",
      "P_SEX          0.0537      0.001     50.143      0.000       0.052       0.056\n",
      "P_AGE          0.0920      0.001     90.902      0.000       0.090       0.094\n",
      "P_PSN          0.0331      0.001     31.651      0.000       0.031       0.035\n",
      "P_SAFE         0.1899      0.001    199.383      0.000       0.188       0.192\n",
      "C_V_YEARS     -0.0407      0.001    -38.107      0.000      -0.043      -0.039\n",
      "cos_C_HOUR     0.0582      0.001     54.960      0.000       0.056       0.060\n",
      "sin_C_HOUR     0.0216      0.001     20.264      0.000       0.019       0.024\n",
      "cos_C_MNTH    -0.0384      0.001    -36.176      0.000      -0.040      -0.036\n",
      "sin_C_MNTH    -0.0339      0.001    -32.080      0.000      -0.036      -0.032\n",
      "cos_C_WDAY     0.0292      0.001     27.867      0.000       0.027       0.031\n",
      "sin_C_WDAY    -0.0214      0.001    -20.307      0.000      -0.023      -0.019\n",
      "==============================================================================\n"
     ]
    }
   ],
   "source": [
    "print(res.summary())"
   ]
  },
  {
   "cell_type": "code",
   "execution_count": 17,
   "id": "3d118a96",
   "metadata": {},
   "outputs": [
    {
     "name": "stdout",
     "output_type": "stream",
     "text": [
      "Numero de pruebas: C_SEV    922711\n",
      "dtype: int64\n",
      "Parametros:  C_VEHS        0.065349\n",
      "C_CONF        0.303942\n",
      "C_RCFG        0.033198\n",
      "C_WTHR        0.016608\n",
      "C_RALN        0.039454\n",
      "C_TRAF        0.076290\n",
      "V_TYPE        0.087788\n",
      "P_SEX         0.053742\n",
      "P_AGE         0.092048\n",
      "P_PSN         0.033123\n",
      "P_SAFE        0.189889\n",
      "C_V_YEARS    -0.040650\n",
      "cos_C_HOUR    0.058198\n",
      "sin_C_HOUR    0.021565\n",
      "cos_C_MNTH   -0.038399\n",
      "sin_C_MNTH   -0.033929\n",
      "cos_C_WDAY    0.029212\n",
      "sin_C_WDAY   -0.021412\n",
      "dtype: float64\n",
      "valores-T:  C_VEHS         46.433315\n",
      "C_CONF        308.864104\n",
      "C_RCFG         26.164139\n",
      "C_WTHR         16.041503\n",
      "C_RALN         37.183555\n",
      "C_TRAF         59.019960\n",
      "V_TYPE         90.077865\n",
      "P_SEX          50.143290\n",
      "P_AGE          90.901759\n",
      "P_PSN          31.651214\n",
      "P_SAFE        199.382941\n",
      "C_V_YEARS     -38.106950\n",
      "cos_C_HOUR     54.960141\n",
      "sin_C_HOUR     20.264328\n",
      "cos_C_MNTH    -36.175772\n",
      "sin_C_MNTH    -32.080129\n",
      "cos_C_WDAY     27.866934\n",
      "sin_C_WDAY    -20.306982\n",
      "dtype: float64\n"
     ]
    }
   ],
   "source": [
    "print('Numero de pruebas:', collision_ytrain.sum())\n",
    "print('Parametros: ', res.params)\n",
    "print('valores-T: ', res.tvalues)"
   ]
  },
  {
   "cell_type": "code",
   "execution_count": 18,
   "id": "227e60bb",
   "metadata": {},
   "outputs": [],
   "source": [
    "glm_prediction = res.predict(collision_xtest_l)"
   ]
  },
  {
   "cell_type": "code",
   "execution_count": 19,
   "id": "6de85502",
   "metadata": {},
   "outputs": [
    {
     "data": {
      "text/html": [
       "<div>\n",
       "<style scoped>\n",
       "    .dataframe tbody tr th:only-of-type {\n",
       "        vertical-align: middle;\n",
       "    }\n",
       "\n",
       "    .dataframe tbody tr th {\n",
       "        vertical-align: top;\n",
       "    }\n",
       "\n",
       "    .dataframe thead th {\n",
       "        text-align: right;\n",
       "    }\n",
       "</style>\n",
       "<table border=\"1\" class=\"dataframe\">\n",
       "  <thead>\n",
       "    <tr style=\"text-align: right;\">\n",
       "      <th></th>\n",
       "      <th>Actual</th>\n",
       "      <th>Predicted</th>\n",
       "    </tr>\n",
       "  </thead>\n",
       "  <tbody>\n",
       "    <tr>\n",
       "      <th>0</th>\n",
       "      <td>0</td>\n",
       "      <td>0.475488</td>\n",
       "    </tr>\n",
       "    <tr>\n",
       "      <th>1</th>\n",
       "      <td>0</td>\n",
       "      <td>0.787119</td>\n",
       "    </tr>\n",
       "    <tr>\n",
       "      <th>2</th>\n",
       "      <td>0</td>\n",
       "      <td>0.491200</td>\n",
       "    </tr>\n",
       "    <tr>\n",
       "      <th>3</th>\n",
       "      <td>0</td>\n",
       "      <td>0.735707</td>\n",
       "    </tr>\n",
       "    <tr>\n",
       "      <th>4</th>\n",
       "      <td>0</td>\n",
       "      <td>0.695888</td>\n",
       "    </tr>\n",
       "    <tr>\n",
       "      <th>...</th>\n",
       "      <td>...</td>\n",
       "      <td>...</td>\n",
       "    </tr>\n",
       "    <tr>\n",
       "      <th>1340362</th>\n",
       "      <td>0</td>\n",
       "      <td>0.442464</td>\n",
       "    </tr>\n",
       "    <tr>\n",
       "      <th>1340363</th>\n",
       "      <td>0</td>\n",
       "      <td>0.669890</td>\n",
       "    </tr>\n",
       "    <tr>\n",
       "      <th>1340364</th>\n",
       "      <td>0</td>\n",
       "      <td>0.412155</td>\n",
       "    </tr>\n",
       "    <tr>\n",
       "      <th>1340365</th>\n",
       "      <td>0</td>\n",
       "      <td>0.642473</td>\n",
       "    </tr>\n",
       "    <tr>\n",
       "      <th>1340366</th>\n",
       "      <td>0</td>\n",
       "      <td>0.765791</td>\n",
       "    </tr>\n",
       "  </tbody>\n",
       "</table>\n",
       "<p>1340367 rows × 2 columns</p>\n",
       "</div>"
      ],
      "text/plain": [
       "         Actual  Predicted\n",
       "0             0   0.475488\n",
       "1             0   0.787119\n",
       "2             0   0.491200\n",
       "3             0   0.735707\n",
       "4             0   0.695888\n",
       "...         ...        ...\n",
       "1340362       0   0.442464\n",
       "1340363       0   0.669890\n",
       "1340364       0   0.412155\n",
       "1340365       0   0.642473\n",
       "1340366       0   0.765791\n",
       "\n",
       "[1340367 rows x 2 columns]"
      ]
     },
     "execution_count": 19,
     "metadata": {},
     "output_type": "execute_result"
    }
   ],
   "source": [
    "comparacion_glm = pd.DataFrame({'Actual': collision_ytest, 'Predicted': glm_prediction})\n",
    "comparacion_glm"
   ]
  },
  {
   "cell_type": "code",
   "execution_count": 20,
   "id": "a1119615",
   "metadata": {},
   "outputs": [],
   "source": [
    "clasificacionGLM = np.where(glm_prediction < 0.5,0,1)"
   ]
  },
  {
   "cell_type": "code",
   "execution_count": 21,
   "id": "bff73bcc",
   "metadata": {},
   "outputs": [
    {
     "data": {
      "text/html": [
       "<div>\n",
       "<style scoped>\n",
       "    .dataframe tbody tr th:only-of-type {\n",
       "        vertical-align: middle;\n",
       "    }\n",
       "\n",
       "    .dataframe tbody tr th {\n",
       "        vertical-align: top;\n",
       "    }\n",
       "\n",
       "    .dataframe thead th {\n",
       "        text-align: right;\n",
       "    }\n",
       "</style>\n",
       "<table border=\"1\" class=\"dataframe\">\n",
       "  <thead>\n",
       "    <tr style=\"text-align: right;\">\n",
       "      <th></th>\n",
       "      <th>Actual</th>\n",
       "      <th>Predicted</th>\n",
       "    </tr>\n",
       "  </thead>\n",
       "  <tbody>\n",
       "    <tr>\n",
       "      <th>0</th>\n",
       "      <td>0</td>\n",
       "      <td>0</td>\n",
       "    </tr>\n",
       "    <tr>\n",
       "      <th>1</th>\n",
       "      <td>0</td>\n",
       "      <td>1</td>\n",
       "    </tr>\n",
       "    <tr>\n",
       "      <th>2</th>\n",
       "      <td>0</td>\n",
       "      <td>0</td>\n",
       "    </tr>\n",
       "    <tr>\n",
       "      <th>3</th>\n",
       "      <td>0</td>\n",
       "      <td>1</td>\n",
       "    </tr>\n",
       "    <tr>\n",
       "      <th>4</th>\n",
       "      <td>0</td>\n",
       "      <td>1</td>\n",
       "    </tr>\n",
       "    <tr>\n",
       "      <th>...</th>\n",
       "      <td>...</td>\n",
       "      <td>...</td>\n",
       "    </tr>\n",
       "    <tr>\n",
       "      <th>1340362</th>\n",
       "      <td>0</td>\n",
       "      <td>0</td>\n",
       "    </tr>\n",
       "    <tr>\n",
       "      <th>1340363</th>\n",
       "      <td>0</td>\n",
       "      <td>1</td>\n",
       "    </tr>\n",
       "    <tr>\n",
       "      <th>1340364</th>\n",
       "      <td>0</td>\n",
       "      <td>0</td>\n",
       "    </tr>\n",
       "    <tr>\n",
       "      <th>1340365</th>\n",
       "      <td>0</td>\n",
       "      <td>1</td>\n",
       "    </tr>\n",
       "    <tr>\n",
       "      <th>1340366</th>\n",
       "      <td>0</td>\n",
       "      <td>1</td>\n",
       "    </tr>\n",
       "  </tbody>\n",
       "</table>\n",
       "<p>1340367 rows × 2 columns</p>\n",
       "</div>"
      ],
      "text/plain": [
       "         Actual  Predicted\n",
       "0             0          0\n",
       "1             0          1\n",
       "2             0          0\n",
       "3             0          1\n",
       "4             0          1\n",
       "...         ...        ...\n",
       "1340362       0          0\n",
       "1340363       0          1\n",
       "1340364       0          0\n",
       "1340365       0          1\n",
       "1340366       0          1\n",
       "\n",
       "[1340367 rows x 2 columns]"
      ]
     },
     "execution_count": 21,
     "metadata": {},
     "output_type": "execute_result"
    }
   ],
   "source": [
    "comparacion_glm = pd.DataFrame({'Actual': collision_ytest, 'Predicted': clasificacionGLM})\n",
    "comparacion_glm"
   ]
  },
  {
   "cell_type": "markdown",
   "id": "89e3f9c1",
   "metadata": {},
   "source": [
    "### Obtenemos el error"
   ]
  },
  {
   "cell_type": "code",
   "execution_count": 22,
   "id": "2a270a7b",
   "metadata": {},
   "outputs": [
    {
     "name": "stdout",
     "output_type": "stream",
     "text": [
      "Mean Absolute Error: 0.49110576674105205\n",
      "Mean Squared Error: 0.2532549524292071\n",
      "Root Mean Squared Error: 0.5032444261283051\n"
     ]
    }
   ],
   "source": [
    "print('Mean Absolute Error:', metrics.mean_absolute_error(collision_ytest, glm_prediction))\n",
    "print('Mean Squared Error:', metrics.mean_squared_error(collision_ytest, glm_prediction))\n",
    "print('Root Mean Squared Error:', np.sqrt(metrics.mean_squared_error(collision_ytest, glm_prediction)))"
   ]
  },
  {
   "cell_type": "markdown",
   "id": "14a168a3",
   "metadata": {},
   "source": [
    "### Métricas "
   ]
  },
  {
   "cell_type": "markdown",
   "id": "06e7cbd4",
   "metadata": {},
   "source": [
    "En este apartado de métricas obtendremos tanto la curva ROC, matriz de confusión(normalizada y sin normalizar), la curva de ganancia y lift (excepto en GLM) y por último el recall, f-score y la precisión."
   ]
  },
  {
   "cell_type": "markdown",
   "id": "0797fc2a",
   "metadata": {},
   "source": [
    "Aprovechando que es el primer modelo explicaremos sólo en este qué son cada tipo de métricas que utilizaremos posteriormente para elegir el mejor modelo para optimizarlo."
   ]
  },
  {
   "cell_type": "markdown",
   "id": "487fda4e",
   "metadata": {},
   "source": [
    "#### Curva ROC"
   ]
  },
  {
   "cell_type": "markdown",
   "id": "aaba304e",
   "metadata": {},
   "source": [
    "La interpretación de este gráfico es la representación de la proporción de verdaderos positivos frente a la proporción de falsos positivos."
   ]
  },
  {
   "cell_type": "code",
   "execution_count": 23,
   "id": "f57cfdb2",
   "metadata": {
    "scrolled": true
   },
   "outputs": [
    {
     "name": "stdout",
     "output_type": "stream",
     "text": [
      "AUC: 0.818\n"
     ]
    }
   ],
   "source": [
    "auc = metrics.roc_auc_score(collision_ytest, glm_prediction)\n",
    "print('AUC: %.3f' % auc)"
   ]
  },
  {
   "cell_type": "code",
   "execution_count": 24,
   "id": "62752496",
   "metadata": {
    "scrolled": false
   },
   "outputs": [
    {
     "data": {
      "image/png": "[encoded data removed]",
      "text/plain": [
       "<Figure size 432x288 with 1 Axes>"
      ]
     },
     "metadata": {
      "needs_background": "light"
     },
     "output_type": "display_data"
    }
   ],
   "source": [
    "# calculate roc curves\n",
    "fpr, tpr, thresholds = roc_curve(collision_ytest, glm_prediction)\n",
    "# plot the roc curve for the model\n",
    "plt.plot([0,1], [0,1], linestyle='--', label='No Skill')\n",
    "plt.plot(fpr, tpr, marker='.', label='GLM')\n",
    "# axis labels\n",
    "plt.xlabel('False Positive Rate')\n",
    "plt.ylabel('True Positive Rate')\n",
    "plt.legend()\n",
    "# show the plot\n",
    "plt.show()"
   ]
  },
  {
   "cell_type": "markdown",
   "id": "7311f6fe",
   "metadata": {},
   "source": [
    "#### Matriz de confusión "
   ]
  },
  {
   "cell_type": "markdown",
   "id": "bb242bbc",
   "metadata": {},
   "source": [
    "La matriz de confusión es una herramienta muy útil para valorar cómo de bueno es un modelo clasificación en machine learning. En particular, sirve para mostrar cuándo una clase es confundida con otra."
   ]
  },
  {
   "cell_type": "code",
   "execution_count": 25,
   "id": "387d85a0",
   "metadata": {},
   "outputs": [
    {
     "data": {
      "text/plain": [
       "Text(0.5, 1.0, 'Normalized confusion matrix')"
      ]
     },
     "execution_count": 25,
     "metadata": {},
     "output_type": "execute_result"
    },
    {
     "data": {
      "image/png": "[encoded data removed]",
      "text/plain": [
       "<Figure size 504x504 with 2 Axes>"
      ]
     },
     "metadata": {
      "needs_background": "light"
     },
     "output_type": "display_data"
    },
    {
     "data": {
      "image/png": "[encoded data removed]",
      "text/plain": [
       "<Figure size 504x504 with 2 Axes>"
      ]
     },
     "metadata": {
      "needs_background": "light"
     },
     "output_type": "display_data"
    }
   ],
   "source": [
    "cm_gbt_gml= confusion_matrix(collision_ytest, clasificacionGLM)\n",
    "cm_gbt_norm_gml = confusion_matrix(collision_ytest, clasificacionGLM, normalize=\"true\")\n",
    "\n",
    "plt.figure(figsize=(7,7))\n",
    "sns.heatmap(cm_gbt_gml, annot=True, fmt=\".3f\", linewidths=1, square = True, cmap = 'Blues_r');\n",
    "plt.ylabel('Actual label');\n",
    "plt.xlabel('Predicted label');\n",
    "plt.title(\"Confusion matrix\")\n",
    "\n",
    "plt.figure(figsize=(7,7))\n",
    "sns.heatmap(cm_gbt_norm_gml, annot=True, fmt=\".3f\", linewidths=1, square = True, cmap = 'Blues_r');\n",
    "plt.ylabel('Actual label');\n",
    "plt.xlabel('Predicted label');\n",
    "plt.title(\"Normalized confusion matrix\")"
   ]
  },
  {
   "cell_type": "markdown",
   "id": "f2a48cd3",
   "metadata": {},
   "source": [
    "#### F-Score"
   ]
  },
  {
   "cell_type": "markdown",
   "id": "18c1477d",
   "metadata": {},
   "source": [
    "La F-Score es la medida de precisión que tiene un test."
   ]
  },
  {
   "cell_type": "code",
   "execution_count": 26,
   "id": "8afd5247",
   "metadata": {},
   "outputs": [
    {
     "data": {
      "text/plain": [
       "0.07259592946571701"
      ]
     },
     "execution_count": 26,
     "metadata": {},
     "output_type": "execute_result"
    }
   ],
   "source": [
    "score = f1_score(collision_ytest, clasificacionGLM)\n",
    "score"
   ]
  },
  {
   "cell_type": "markdown",
   "id": "ff9ae124",
   "metadata": {},
   "source": [
    "#### Recall"
   ]
  },
  {
   "cell_type": "markdown",
   "id": "c16c7f5c",
   "metadata": {},
   "source": [
    "El Recall nos va a informar sobre la cantidad que el modelo de machine learning es capaz de identificar. "
   ]
  },
  {
   "cell_type": "code",
   "execution_count": 92,
   "id": "52fcb200",
   "metadata": {},
   "outputs": [
    {
     "data": {
      "text/plain": [
       "0.8100348684508445"
      ]
     },
     "execution_count": 92,
     "metadata": {},
     "output_type": "execute_result"
    }
   ],
   "source": [
    "Recall = recall_score(collision_ytest, clasificacionGLM)\n",
    "Recall"
   ]
  },
  {
   "cell_type": "markdown",
   "id": "a74ea3c7",
   "metadata": {},
   "source": [
    "#### Precision"
   ]
  },
  {
   "cell_type": "markdown",
   "id": "a3e79f46",
   "metadata": {},
   "source": [
    "Con la métrica de precisión podemos medir la calidad del modelo de machine learning en tareas de clasificación."
   ]
  },
  {
   "cell_type": "code",
   "execution_count": 93,
   "id": "a84e868d",
   "metadata": {},
   "outputs": [
    {
     "data": {
      "text/plain": [
       "0.038000794515717175"
      ]
     },
     "execution_count": 93,
     "metadata": {},
     "output_type": "execute_result"
    }
   ],
   "source": [
    "Precision = precision_score(collision_ytest, clasificacionGLM)\n",
    "Precision"
   ]
  },
  {
   "cell_type": "markdown",
   "id": "ffb51806",
   "metadata": {},
   "source": [
    "## Support Vector Machine"
   ]
  },
  {
   "cell_type": "markdown",
   "id": "78c417c8",
   "metadata": {},
   "source": [
    "SVM es un modelo que representa a los puntos de muestra en el espacio, separando las clases a 2 espacios lo más amplios posibles mediante un hiperplano de separación definido como el vector entre los 2 puntos, de las 2 clases, más cercanos al que se llama vector soporte. Cuando las nuevas muestras se ponen en correspondencia con dicho modelo, en función de los espacios a los que pertenezcan, pueden ser clasificadas a una o la otra clase."
   ]
  },
  {
   "cell_type": "code",
   "execution_count": 27,
   "id": "8202a732",
   "metadata": {
    "scrolled": true
   },
   "outputs": [
    {
     "name": "stderr",
     "output_type": "stream",
     "text": [
      "/Users/ramonguerreromorales/opt/anaconda3/envs/Practica1/lib/python3.9/site-packages/sklearn/utils/validation.py:985: DataConversionWarning: A column-vector y was passed when a 1d array was expected. Please change the shape of y to (n_samples, ), for example using ravel().\n",
      "  y = column_or_1d(y, warn=True)\n"
     ]
    },
    {
     "name": "stdout",
     "output_type": "stream",
     "text": [
      "El tiempo de ejecucion para SVC es: 7.432465076446533\n"
     ]
    }
   ],
   "source": [
    "start_svc = time.time()\n",
    "\n",
    "clf = SGDClassifier(random_state=324, loss = 'log')\n",
    "clf = clf.fit(collision_xtrain_l, collision_ytrain)\n",
    "\n",
    "end_svc = time.time()\n",
    "\n",
    "print(\"El tiempo de ejecucion para SVC es:\", end_svc-start_svc)"
   ]
  },
  {
   "cell_type": "markdown",
   "id": "838ecae7",
   "metadata": {},
   "source": [
    "### Guardamos SVC con Pickle"
   ]
  },
  {
   "cell_type": "code",
   "execution_count": 28,
   "id": "76ca1aa5",
   "metadata": {},
   "outputs": [],
   "source": [
    "filename_svc = 'finalized_svc.sav'\n",
    "pickle.dump(clf, open(filename_svc, 'wb'))"
   ]
  },
  {
   "cell_type": "markdown",
   "id": "5b62d61a",
   "metadata": {},
   "source": [
    "### Cargamos SVC con Pickle"
   ]
  },
  {
   "cell_type": "code",
   "execution_count": 29,
   "id": "f3bd9b18",
   "metadata": {},
   "outputs": [],
   "source": [
    "clf = pickle.load(open(filename_svc, 'rb'))"
   ]
  },
  {
   "cell_type": "markdown",
   "id": "80f3355d",
   "metadata": {},
   "source": [
    "### Vemos el modelo"
   ]
  },
  {
   "cell_type": "code",
   "execution_count": 30,
   "id": "78f1efe1",
   "metadata": {},
   "outputs": [],
   "source": [
    "SVC_prediction = clf.predict(collision_xtest_l)"
   ]
  },
  {
   "cell_type": "code",
   "execution_count": 31,
   "id": "20f1e186",
   "metadata": {},
   "outputs": [],
   "source": [
    "SVC_prob_predictions = clf.predict_proba(collision_xtest_l)"
   ]
  },
  {
   "cell_type": "code",
   "execution_count": 32,
   "id": "a9fd7acb",
   "metadata": {},
   "outputs": [],
   "source": [
    "clasificacion_svc = np.where(SVC_prediction < 0.5,0,1)"
   ]
  },
  {
   "cell_type": "code",
   "execution_count": 33,
   "id": "834fb92c",
   "metadata": {
    "scrolled": false
   },
   "outputs": [
    {
     "data": {
      "text/html": [
       "<div>\n",
       "<style scoped>\n",
       "    .dataframe tbody tr th:only-of-type {\n",
       "        vertical-align: middle;\n",
       "    }\n",
       "\n",
       "    .dataframe tbody tr th {\n",
       "        vertical-align: top;\n",
       "    }\n",
       "\n",
       "    .dataframe thead th {\n",
       "        text-align: right;\n",
       "    }\n",
       "</style>\n",
       "<table border=\"1\" class=\"dataframe\">\n",
       "  <thead>\n",
       "    <tr style=\"text-align: right;\">\n",
       "      <th></th>\n",
       "      <th>Actual</th>\n",
       "      <th>Predicted</th>\n",
       "    </tr>\n",
       "  </thead>\n",
       "  <tbody>\n",
       "    <tr>\n",
       "      <th>0</th>\n",
       "      <td>0</td>\n",
       "      <td>0</td>\n",
       "    </tr>\n",
       "    <tr>\n",
       "      <th>1</th>\n",
       "      <td>0</td>\n",
       "      <td>1</td>\n",
       "    </tr>\n",
       "    <tr>\n",
       "      <th>2</th>\n",
       "      <td>0</td>\n",
       "      <td>0</td>\n",
       "    </tr>\n",
       "    <tr>\n",
       "      <th>3</th>\n",
       "      <td>0</td>\n",
       "      <td>0</td>\n",
       "    </tr>\n",
       "    <tr>\n",
       "      <th>4</th>\n",
       "      <td>0</td>\n",
       "      <td>0</td>\n",
       "    </tr>\n",
       "    <tr>\n",
       "      <th>...</th>\n",
       "      <td>...</td>\n",
       "      <td>...</td>\n",
       "    </tr>\n",
       "    <tr>\n",
       "      <th>1340362</th>\n",
       "      <td>0</td>\n",
       "      <td>0</td>\n",
       "    </tr>\n",
       "    <tr>\n",
       "      <th>1340363</th>\n",
       "      <td>0</td>\n",
       "      <td>0</td>\n",
       "    </tr>\n",
       "    <tr>\n",
       "      <th>1340364</th>\n",
       "      <td>0</td>\n",
       "      <td>0</td>\n",
       "    </tr>\n",
       "    <tr>\n",
       "      <th>1340365</th>\n",
       "      <td>0</td>\n",
       "      <td>0</td>\n",
       "    </tr>\n",
       "    <tr>\n",
       "      <th>1340366</th>\n",
       "      <td>0</td>\n",
       "      <td>1</td>\n",
       "    </tr>\n",
       "  </tbody>\n",
       "</table>\n",
       "<p>1340367 rows × 2 columns</p>\n",
       "</div>"
      ],
      "text/plain": [
       "         Actual  Predicted\n",
       "0             0          0\n",
       "1             0          1\n",
       "2             0          0\n",
       "3             0          0\n",
       "4             0          0\n",
       "...         ...        ...\n",
       "1340362       0          0\n",
       "1340363       0          0\n",
       "1340364       0          0\n",
       "1340365       0          0\n",
       "1340366       0          1\n",
       "\n",
       "[1340367 rows x 2 columns]"
      ]
     },
     "execution_count": 33,
     "metadata": {},
     "output_type": "execute_result"
    }
   ],
   "source": [
    "comparacion_svc = pd.DataFrame({'Actual': collision_ytest, 'Predicted': clasificacion_svc})\n",
    "comparacion_svc"
   ]
  },
  {
   "cell_type": "code",
   "execution_count": 34,
   "id": "127b9eaf",
   "metadata": {},
   "outputs": [
    {
     "name": "stdout",
     "output_type": "stream",
     "text": [
      "Mean Absolute Error: 0.06740019711019445\n",
      "Mean Squared Error: 0.06740019711019445\n",
      "Root Mean Squared Error: 0.2596154793347162\n"
     ]
    }
   ],
   "source": [
    "print('Mean Absolute Error:', metrics.mean_absolute_error(collision_ytest, SVC_prediction))\n",
    "print('Mean Squared Error:', metrics.mean_squared_error(collision_ytest, SVC_prediction))\n",
    "print('Root Mean Squared Error:', np.sqrt(metrics.mean_squared_error(collision_ytest, SVC_prediction)))"
   ]
  },
  {
   "cell_type": "code",
   "execution_count": 35,
   "id": "c99d9798",
   "metadata": {},
   "outputs": [
    {
     "name": "stdout",
     "output_type": "stream",
     "text": [
      "AUC: 0.684\n"
     ]
    }
   ],
   "source": [
    "auc = metrics.roc_auc_score(collision_ytest, SVC_prediction)\n",
    "print('AUC: %.3f' % auc)"
   ]
  },
  {
   "cell_type": "code",
   "execution_count": 36,
   "id": "ff6efbea",
   "metadata": {},
   "outputs": [
    {
     "data": {
      "image/png": "[encoded data removed]",
      "text/plain": [
       "<Figure size 432x288 with 1 Axes>"
      ]
     },
     "metadata": {
      "needs_background": "light"
     },
     "output_type": "display_data"
    }
   ],
   "source": [
    "# keep probabilities for the positive outcome only\n",
    "yhat_svc = SVC_prob_predictions[:, 1]\n",
    "# calculate roc curves\n",
    "fpr, tpr, thresholds = roc_curve(collision_ytest, yhat_svc)\n",
    "# plot the roc curve for the model\n",
    "plt.plot([0,1], [0,1], linestyle='--', label='No Skill')\n",
    "plt.plot(fpr, tpr, marker='.', label='SVC')\n",
    "# axis labels\n",
    "plt.xlabel('False Positive Rate')\n",
    "plt.ylabel('True Positive Rate')\n",
    "plt.legend()\n",
    "# show the plot\n",
    "plt.show()"
   ]
  },
  {
   "cell_type": "code",
   "execution_count": 37,
   "id": "4a0ff351",
   "metadata": {},
   "outputs": [
    {
     "data": {
      "text/plain": [
       "Text(0.5, 1.0, 'Normalized confusion matrix')"
      ]
     },
     "execution_count": 37,
     "metadata": {},
     "output_type": "execute_result"
    },
    {
     "data": {
      "image/png": "[encoded data removed]",
      "text/plain": [
       "<Figure size 504x504 with 2 Axes>"
      ]
     },
     "metadata": {
      "needs_background": "light"
     },
     "output_type": "display_data"
    },
    {
     "data": {
      "image/png": "[encoded data removed]",
      "text/plain": [
       "<Figure size 504x504 with 2 Axes>"
      ]
     },
     "metadata": {
      "needs_background": "light"
     },
     "output_type": "display_data"
    }
   ],
   "source": [
    "cm_gbt_gml= confusion_matrix(collision_ytest, SVC_prediction)\n",
    "cm_gbt_norm_gml = confusion_matrix(collision_ytest, SVC_prediction, normalize=\"true\")\n",
    "\n",
    "plt.figure(figsize=(7,7))\n",
    "sns.heatmap(cm_gbt_gml, annot=True, fmt=\".3f\", linewidths=1, square = True, cmap = 'Blues_r');\n",
    "plt.ylabel('Actual label');\n",
    "plt.xlabel('Predicted label');\n",
    "plt.title(\"Confusion matrix\")\n",
    "\n",
    "plt.figure(figsize=(7,7))\n",
    "sns.heatmap(cm_gbt_norm_gml, annot=True, fmt=\".3f\", linewidths=1, square = True, cmap = 'Blues_r');\n",
    "plt.ylabel('Actual label');\n",
    "plt.xlabel('Predicted label');\n",
    "plt.title(\"Normalized confusion matrix\")"
   ]
  },
  {
   "cell_type": "markdown",
   "id": "305dac26",
   "metadata": {},
   "source": [
    "#### Curva de Ganancia"
   ]
  },
  {
   "cell_type": "markdown",
   "id": "3ed50f20",
   "metadata": {},
   "source": [
    "El gráfico de ganancias acumuladas muestra el porcentaje del número total de casos en una categoría determinada al apuntar a un porcentaje del número total de casos."
   ]
  },
  {
   "cell_type": "code",
   "execution_count": 97,
   "id": "22f03198",
   "metadata": {
    "scrolled": true
   },
   "outputs": [
    {
     "data": {
      "image/png": "[encoded data removed]",
      "text/plain": [
       "<Figure size 432x288 with 1 Axes>"
      ]
     },
     "metadata": {
      "needs_background": "light"
     },
     "output_type": "display_data"
    }
   ],
   "source": [
    "skplt.metrics.plot_cumulative_gain(collision_ytest, SVC_prob_predictions)\n",
    "plt.show()"
   ]
  },
  {
   "cell_type": "markdown",
   "id": "8d84cc88",
   "metadata": {},
   "source": [
    "#### Curva Lift"
   ]
  },
  {
   "cell_type": "markdown",
   "id": "da78edc6",
   "metadata": {},
   "source": [
    "La curva lift utiliza la probabilidad devuelta por el modelo para evaluar cómo se está desempeñando nuestro modelo y qué tan bien está identificando las instancias positivas o negativas de nuestro conjunto de datos."
   ]
  },
  {
   "cell_type": "code",
   "execution_count": 98,
   "id": "80f36d68",
   "metadata": {},
   "outputs": [
    {
     "data": {
      "image/png": "[encoded data removed]",
      "text/plain": [
       "<Figure size 432x288 with 1 Axes>"
      ]
     },
     "metadata": {
      "needs_background": "light"
     },
     "output_type": "display_data"
    }
   ],
   "source": [
    "skplt.metrics.plot_lift_curve(collision_ytest, SVC_prob_predictions)\n",
    "plt.show()"
   ]
  },
  {
   "cell_type": "code",
   "execution_count": 38,
   "id": "18744641",
   "metadata": {},
   "outputs": [
    {
     "data": {
      "text/plain": [
       "0.17287567636853043"
      ]
     },
     "execution_count": 38,
     "metadata": {},
     "output_type": "execute_result"
    }
   ],
   "source": [
    "score = f1_score(collision_ytest, clasificacion_svc)\n",
    "score"
   ]
  },
  {
   "cell_type": "code",
   "execution_count": 99,
   "id": "663cd208",
   "metadata": {},
   "outputs": [
    {
     "data": {
      "text/plain": [
       "0.42752343431598966"
      ]
     },
     "execution_count": 99,
     "metadata": {},
     "output_type": "execute_result"
    }
   ],
   "source": [
    "Recall = recall_score(collision_ytest, SVC_prediction)\n",
    "Recall"
   ]
  },
  {
   "cell_type": "code",
   "execution_count": 100,
   "id": "c55f8a34",
   "metadata": {},
   "outputs": [
    {
     "data": {
      "text/plain": [
       "0.10834289648840946"
      ]
     },
     "execution_count": 100,
     "metadata": {},
     "output_type": "execute_result"
    }
   ],
   "source": [
    "Precision = precision_score(collision_ytest, SVC_prediction)\n",
    "Precision"
   ]
  },
  {
   "cell_type": "markdown",
   "id": "8d4ef0f8",
   "metadata": {},
   "source": [
    "## Random Forest"
   ]
  },
  {
   "cell_type": "markdown",
   "id": "3ea562c4",
   "metadata": {},
   "source": [
    "Un Random Forest es un conjunto de árboles de decisión combinados con bagging.  \n",
    "Al usar bagging distintos árboles ven distintas porciones de los datos. Ningún árbol ve todos los datos de entrenamiento. \n",
    "Esto hace que cada árbol se entrene con distintas muestras de datos para un mismo problema. De esta forma, al combinar sus resultados, unos errores se compensan con otros y tenemos una predicción que generaliza mejor."
   ]
  },
  {
   "cell_type": "code",
   "execution_count": 39,
   "id": "bd3c90ae",
   "metadata": {
    "scrolled": true
   },
   "outputs": [
    {
     "name": "stderr",
     "output_type": "stream",
     "text": [
      "/var/folders/5z/7v432v8x71s77lfhl478h3p40000gn/T/ipykernel_3936/3627550035.py:5: DataConversionWarning: A column-vector y was passed when a 1d array was expected. Please change the shape of y to (n_samples,), for example using ravel().\n",
      "  modelo = modelo.fit(collision_xtrain_l, collision_ytrain)\n"
     ]
    },
    {
     "name": "stdout",
     "output_type": "stream",
     "text": [
      "El tiempo de ejecucion para RF es: 242.3841950893402\n"
     ]
    }
   ],
   "source": [
    "start_rf = time.time()\n",
    "\n",
    "modelo = RandomForestClassifier(n_jobs=-1,random_state=3442)\n",
    "\n",
    "modelo = modelo.fit(collision_xtrain_l, collision_ytrain)\n",
    "\n",
    "end_rf = time.time()\n",
    "\n",
    "print(\"El tiempo de ejecucion para RF es:\", end_rf-start_rf)"
   ]
  },
  {
   "cell_type": "markdown",
   "id": "8b85de68",
   "metadata": {},
   "source": [
    "### Guardamos RF con Pickle"
   ]
  },
  {
   "cell_type": "code",
   "execution_count": 40,
   "id": "664fffae",
   "metadata": {},
   "outputs": [],
   "source": [
    "filename_rf = 'finalized_rf.sav'\n",
    "pickle.dump(modelo, open(filename_rf, 'wb'))"
   ]
  },
  {
   "cell_type": "markdown",
   "id": "b07f032c",
   "metadata": {},
   "source": [
    "### Cargamos RF con Pickle"
   ]
  },
  {
   "cell_type": "code",
   "execution_count": 41,
   "id": "b294e355",
   "metadata": {},
   "outputs": [],
   "source": [
    "modelo = pickle.load(open(filename_rf, 'rb'))"
   ]
  },
  {
   "cell_type": "markdown",
   "id": "6c866083",
   "metadata": {},
   "source": [
    "### Vemos el modelo"
   ]
  },
  {
   "cell_type": "code",
   "execution_count": 42,
   "id": "a5b5eb78",
   "metadata": {},
   "outputs": [],
   "source": [
    "RF_prediction = modelo.predict(collision_xtest_l)"
   ]
  },
  {
   "cell_type": "code",
   "execution_count": 43,
   "id": "caa5f1c9",
   "metadata": {},
   "outputs": [],
   "source": [
    "RF_prob_predictions = modelo.predict_proba(collision_xtest_l)"
   ]
  },
  {
   "cell_type": "code",
   "execution_count": 44,
   "id": "b130585f",
   "metadata": {
    "scrolled": false
   },
   "outputs": [
    {
     "data": {
      "text/html": [
       "<div>\n",
       "<style scoped>\n",
       "    .dataframe tbody tr th:only-of-type {\n",
       "        vertical-align: middle;\n",
       "    }\n",
       "\n",
       "    .dataframe tbody tr th {\n",
       "        vertical-align: top;\n",
       "    }\n",
       "\n",
       "    .dataframe thead th {\n",
       "        text-align: right;\n",
       "    }\n",
       "</style>\n",
       "<table border=\"1\" class=\"dataframe\">\n",
       "  <thead>\n",
       "    <tr style=\"text-align: right;\">\n",
       "      <th></th>\n",
       "      <th>Actual</th>\n",
       "      <th>Predicted</th>\n",
       "    </tr>\n",
       "  </thead>\n",
       "  <tbody>\n",
       "    <tr>\n",
       "      <th>0</th>\n",
       "      <td>0</td>\n",
       "      <td>0</td>\n",
       "    </tr>\n",
       "    <tr>\n",
       "      <th>1</th>\n",
       "      <td>0</td>\n",
       "      <td>0</td>\n",
       "    </tr>\n",
       "    <tr>\n",
       "      <th>2</th>\n",
       "      <td>0</td>\n",
       "      <td>0</td>\n",
       "    </tr>\n",
       "    <tr>\n",
       "      <th>3</th>\n",
       "      <td>0</td>\n",
       "      <td>0</td>\n",
       "    </tr>\n",
       "    <tr>\n",
       "      <th>4</th>\n",
       "      <td>0</td>\n",
       "      <td>0</td>\n",
       "    </tr>\n",
       "    <tr>\n",
       "      <th>...</th>\n",
       "      <td>...</td>\n",
       "      <td>...</td>\n",
       "    </tr>\n",
       "    <tr>\n",
       "      <th>1340362</th>\n",
       "      <td>0</td>\n",
       "      <td>0</td>\n",
       "    </tr>\n",
       "    <tr>\n",
       "      <th>1340363</th>\n",
       "      <td>0</td>\n",
       "      <td>0</td>\n",
       "    </tr>\n",
       "    <tr>\n",
       "      <th>1340364</th>\n",
       "      <td>0</td>\n",
       "      <td>0</td>\n",
       "    </tr>\n",
       "    <tr>\n",
       "      <th>1340365</th>\n",
       "      <td>0</td>\n",
       "      <td>0</td>\n",
       "    </tr>\n",
       "    <tr>\n",
       "      <th>1340366</th>\n",
       "      <td>0</td>\n",
       "      <td>0</td>\n",
       "    </tr>\n",
       "  </tbody>\n",
       "</table>\n",
       "<p>1340367 rows × 2 columns</p>\n",
       "</div>"
      ],
      "text/plain": [
       "         Actual  Predicted\n",
       "0             0          0\n",
       "1             0          0\n",
       "2             0          0\n",
       "3             0          0\n",
       "4             0          0\n",
       "...         ...        ...\n",
       "1340362       0          0\n",
       "1340363       0          0\n",
       "1340364       0          0\n",
       "1340365       0          0\n",
       "1340366       0          0\n",
       "\n",
       "[1340367 rows x 2 columns]"
      ]
     },
     "execution_count": 44,
     "metadata": {},
     "output_type": "execute_result"
    }
   ],
   "source": [
    "comparacion_rf = pd.DataFrame({'Actual': collision_ytest, 'Predicted': RF_prediction})\n",
    "comparacion_rf"
   ]
  },
  {
   "cell_type": "code",
   "execution_count": 45,
   "id": "8ed73c07",
   "metadata": {},
   "outputs": [
    {
     "name": "stdout",
     "output_type": "stream",
     "text": [
      "Mean Absolute Error: 0.0148078847062036\n",
      "Mean Squared Error: 0.0148078847062036\n",
      "Root Mean Squared Error: 0.1216876522339206\n"
     ]
    }
   ],
   "source": [
    "print('Mean Absolute Error:', metrics.mean_absolute_error(collision_ytest, RF_prediction))\n",
    "print('Mean Squared Error:', metrics.mean_squared_error(collision_ytest, RF_prediction))\n",
    "print('Root Mean Squared Error:', np.sqrt(metrics.mean_squared_error(collision_ytest, RF_prediction)))"
   ]
  },
  {
   "cell_type": "code",
   "execution_count": 46,
   "id": "e8e43928",
   "metadata": {},
   "outputs": [
    {
     "name": "stdout",
     "output_type": "stream",
     "text": [
      "AUC: 0.566\n"
     ]
    }
   ],
   "source": [
    "auc = metrics.roc_auc_score(collision_ytest, RF_prediction)\n",
    "print('AUC: %.3f' % auc)"
   ]
  },
  {
   "cell_type": "code",
   "execution_count": 47,
   "id": "cc85e2a0",
   "metadata": {},
   "outputs": [
    {
     "data": {
      "image/png": "[encoded data removed]",
      "text/plain": [
       "<Figure size 432x288 with 1 Axes>"
      ]
     },
     "metadata": {
      "needs_background": "light"
     },
     "output_type": "display_data"
    }
   ],
   "source": [
    "# keep probabilities for the positive outcome only\n",
    "RF_yhat = RF_prob_predictions[:, 1]\n",
    "# calculate roc curves\n",
    "fpr, tpr, thresholds = roc_curve(collision_ytest, RF_yhat)\n",
    "# plot the roc curve for the model\n",
    "plt.plot([0,1], [0,1], linestyle='--', label='No Skill')\n",
    "plt.plot(fpr, tpr, marker='.', label='Random Forest')\n",
    "# axis labels\n",
    "plt.xlabel('False Positive Rate')\n",
    "plt.ylabel('True Positive Rate')\n",
    "plt.legend()\n",
    "# show the plot\n",
    "plt.show()"
   ]
  },
  {
   "cell_type": "code",
   "execution_count": 48,
   "id": "98b79852",
   "metadata": {},
   "outputs": [
    {
     "data": {
      "text/plain": [
       "Text(0.5, 1.0, 'Normalized confusion matrix')"
      ]
     },
     "execution_count": 48,
     "metadata": {},
     "output_type": "execute_result"
    },
    {
     "data": {
      "image/png": "[encoded data removed]",
      "text/plain": [
       "<Figure size 504x504 with 2 Axes>"
      ]
     },
     "metadata": {
      "needs_background": "light"
     },
     "output_type": "display_data"
    },
    {
     "data": {
      "image/png": "[encoded data removed]",
      "text/plain": [
       "<Figure size 504x504 with 2 Axes>"
      ]
     },
     "metadata": {
      "needs_background": "light"
     },
     "output_type": "display_data"
    }
   ],
   "source": [
    "cm_gbt_rf= confusion_matrix(collision_ytest, RF_prediction)\n",
    "cm_gbt_norm_rf = confusion_matrix(collision_ytest, RF_prediction, normalize=\"true\")\n",
    "\n",
    "plt.figure(figsize=(7,7))\n",
    "sns.heatmap(cm_gbt_rf, annot=True, fmt=\".3f\", linewidths=1, square = True, cmap = 'Blues_r');\n",
    "plt.ylabel('Actual label');\n",
    "plt.xlabel('Predicted label');\n",
    "plt.title(\"Confusion matrix\")\n",
    "\n",
    "plt.figure(figsize=(7,7))\n",
    "sns.heatmap(cm_gbt_norm_rf, annot=True, fmt=\".3f\", linewidths=1, square = True, cmap = 'Blues_r');\n",
    "plt.ylabel('Actual label');\n",
    "plt.xlabel('Predicted label');\n",
    "plt.title(\"Normalized confusion matrix\")"
   ]
  },
  {
   "cell_type": "code",
   "execution_count": 101,
   "id": "aa938a45",
   "metadata": {},
   "outputs": [
    {
     "data": {
      "image/png": "[encoded data removed]",
      "text/plain": [
       "<Figure size 432x288 with 1 Axes>"
      ]
     },
     "metadata": {
      "needs_background": "light"
     },
     "output_type": "display_data"
    }
   ],
   "source": [
    "skplt.metrics.plot_cumulative_gain(collision_ytest, RF_prob_predictions)\n",
    "plt.show()"
   ]
  },
  {
   "cell_type": "code",
   "execution_count": 102,
   "id": "ff4df960",
   "metadata": {},
   "outputs": [
    {
     "data": {
      "image/png": "[encoded data removed]",
      "text/plain": [
       "<Figure size 432x288 with 1 Axes>"
      ]
     },
     "metadata": {
      "needs_background": "light"
     },
     "output_type": "display_data"
    }
   ],
   "source": [
    "skplt.metrics.plot_lift_curve(collision_ytest, RF_prob_predictions)\n",
    "plt.show()"
   ]
  },
  {
   "cell_type": "code",
   "execution_count": 49,
   "id": "b4ef18d3",
   "metadata": {},
   "outputs": [
    {
     "data": {
      "text/plain": [
       "0.22866469765272812"
      ]
     },
     "execution_count": 49,
     "metadata": {},
     "output_type": "execute_result"
    }
   ],
   "source": [
    "score = f1_score(collision_ytest, RF_prediction)\n",
    "score"
   ]
  },
  {
   "cell_type": "code",
   "execution_count": 103,
   "id": "7cc45165",
   "metadata": {},
   "outputs": [
    {
     "data": {
      "text/plain": [
       "0.1332246524475841"
      ]
     },
     "execution_count": 103,
     "metadata": {},
     "output_type": "execute_result"
    }
   ],
   "source": [
    "Recall = recall_score(collision_ytest, RF_prediction)\n",
    "Recall"
   ]
  },
  {
   "cell_type": "code",
   "execution_count": 104,
   "id": "2be8baa1",
   "metadata": {},
   "outputs": [
    {
     "data": {
      "text/plain": [
       "0.8062482872019732"
      ]
     },
     "execution_count": 104,
     "metadata": {},
     "output_type": "execute_result"
    }
   ],
   "source": [
    "Precision = precision_score(collision_ytest, RF_prediction)\n",
    "Precision"
   ]
  },
  {
   "cell_type": "markdown",
   "id": "ad99a5fc",
   "metadata": {},
   "source": [
    "## XGBOOST"
   ]
  },
  {
   "cell_type": "markdown",
   "id": "45a2f99a",
   "metadata": {},
   "source": [
    "XGBoost es una implementación de árboles de decisión con Gradient boosting diseñada para minimizar la velocidad de ejecución y maximizar el rendimiento. Usa Boosting, un enfoque de machine learning basado en la idea de crear una regla de predicción altamente precisa combinando muchas reglas relativamente débiles e imprecisas. "
   ]
  },
  {
   "cell_type": "code",
   "execution_count": 50,
   "id": "7d9041fc",
   "metadata": {
    "scrolled": true
   },
   "outputs": [
    {
     "name": "stderr",
     "output_type": "stream",
     "text": [
      "/Users/ramonguerreromorales/opt/anaconda3/envs/Practica1/lib/python3.9/site-packages/xgboost/sklearn.py:1224: UserWarning: The use of label encoder in XGBClassifier is deprecated and will be removed in a future release. To remove this warning, do the following: 1) Pass option use_label_encoder=False when constructing XGBClassifier object; and 2) Encode your labels (y) as integers starting with 0, i.e. 0, 1, 2, ..., [num_class - 1].\n",
      "  warnings.warn(label_encoder_deprecation_msg, UserWarning)\n",
      "/Users/ramonguerreromorales/opt/anaconda3/envs/Practica1/lib/python3.9/site-packages/sklearn/preprocessing/_label.py:98: DataConversionWarning: A column-vector y was passed when a 1d array was expected. Please change the shape of y to (n_samples, ), for example using ravel().\n",
      "  y = column_or_1d(y, warn=True)\n",
      "/Users/ramonguerreromorales/opt/anaconda3/envs/Practica1/lib/python3.9/site-packages/sklearn/preprocessing/_label.py:133: DataConversionWarning: A column-vector y was passed when a 1d array was expected. Please change the shape of y to (n_samples, ), for example using ravel().\n",
      "  y = column_or_1d(y, warn=True)\n"
     ]
    },
    {
     "name": "stdout",
     "output_type": "stream",
     "text": [
      "[17:42:47] WARNING: /Users/runner/miniforge3/conda-bld/xgboost-split_1637426408905/work/src/learner.cc:1115: Starting in XGBoost 1.3.0, the default evaluation metric used with the objective 'binary:logistic' was changed from 'error' to 'logloss'. Explicitly set eval_metric if you'd like to restore the old behavior.\n",
      "El tiempo de ejecucion para XGB es: 184.5130739212036\n"
     ]
    }
   ],
   "source": [
    "start_xgb = time.time()\n",
    "\n",
    "clf_xgb = xgb.XGBClassifier(random_state=84848)\n",
    "clf_xgb = clf_xgb.fit(collision_xtrain_l,collision_ytrain)\n",
    "\n",
    "end_xgb = time.time()\n",
    "\n",
    "print(\"El tiempo de ejecucion para XGB es:\", end_xgb-start_xgb)"
   ]
  },
  {
   "cell_type": "markdown",
   "id": "b56f2e7c",
   "metadata": {},
   "source": [
    "### Guardamos XGB con Pickle"
   ]
  },
  {
   "cell_type": "code",
   "execution_count": 51,
   "id": "646a646f",
   "metadata": {},
   "outputs": [],
   "source": [
    "filename_xgb = 'finalized_xgb.sav'\n",
    "pickle.dump(clf_xgb, open(filename_xgb, 'wb'))"
   ]
  },
  {
   "cell_type": "markdown",
   "id": "35906d12",
   "metadata": {},
   "source": [
    "### Cargamos XGB con Pickle"
   ]
  },
  {
   "cell_type": "code",
   "execution_count": 52,
   "id": "66e01cbc",
   "metadata": {},
   "outputs": [],
   "source": [
    "clf_xgb = pickle.load(open(filename_xgb, 'rb'))"
   ]
  },
  {
   "cell_type": "markdown",
   "id": "75d26697",
   "metadata": {},
   "source": [
    "### Vemos el modelo"
   ]
  },
  {
   "cell_type": "code",
   "execution_count": 53,
   "id": "f070ebcb",
   "metadata": {},
   "outputs": [],
   "source": [
    "preds_xgb= clf_xgb.predict(collision_xtest_l)"
   ]
  },
  {
   "cell_type": "code",
   "execution_count": 54,
   "id": "8694f29b",
   "metadata": {},
   "outputs": [],
   "source": [
    "XGB_prob_predictions = clf_xgb.predict_proba(collision_xtest_l)"
   ]
  },
  {
   "cell_type": "code",
   "execution_count": 106,
   "id": "741eafa8",
   "metadata": {},
   "outputs": [
    {
     "name": "stdout",
     "output_type": "stream",
     "text": [
      "AUC: 0.512\n"
     ]
    }
   ],
   "source": [
    "auc = metrics.roc_auc_score(collision_ytest, preds_xgb)\n",
    "print('AUC: %.3f' % auc)"
   ]
  },
  {
   "cell_type": "code",
   "execution_count": 56,
   "id": "86786eb1",
   "metadata": {},
   "outputs": [
    {
     "data": {
      "image/png": "[encoded data removed]",
      "text/plain": [
       "<Figure size 432x288 with 1 Axes>"
      ]
     },
     "metadata": {
      "needs_background": "light"
     },
     "output_type": "display_data"
    }
   ],
   "source": [
    "# keep probabilities for the positive outcome only\n",
    "XGB_yhat = XGB_prob_predictions[:, 1]\n",
    "# calculate roc curves\n",
    "fpr, tpr, thresholds = roc_curve(collision_ytest, XGB_yhat)\n",
    "# plot the roc curve for the model\n",
    "plt.plot([0,1], [0,1], linestyle='--', label='No Skill')\n",
    "plt.plot(fpr, tpr, marker='.', label='XGBoost')\n",
    "# axis labels\n",
    "plt.xlabel('False Positive Rate')\n",
    "plt.ylabel('True Positive Rate')\n",
    "plt.legend()\n",
    "# show the plot\n",
    "plt.show()"
   ]
  },
  {
   "cell_type": "code",
   "execution_count": 57,
   "id": "8b8da6fa",
   "metadata": {},
   "outputs": [
    {
     "data": {
      "text/plain": [
       "Text(0.5, 1.0, 'Normalized confusion matrix')"
      ]
     },
     "execution_count": 57,
     "metadata": {},
     "output_type": "execute_result"
    },
    {
     "data": {
      "image/png": "[encoded data removed]",
      "text/plain": [
       "<Figure size 504x504 with 2 Axes>"
      ]
     },
     "metadata": {
      "needs_background": "light"
     },
     "output_type": "display_data"
    },
    {
     "data": {
      "image/png": "[encoded data removed]",
      "text/plain": [
       "<Figure size 504x504 with 2 Axes>"
      ]
     },
     "metadata": {
      "needs_background": "light"
     },
     "output_type": "display_data"
    }
   ],
   "source": [
    "cm_gbt_gml= confusion_matrix(collision_ytest, preds_xgb)\n",
    "cm_gbt_norm_gml = confusion_matrix(collision_ytest, preds_xgb, normalize=\"true\")\n",
    "\n",
    "plt.figure(figsize=(7,7))\n",
    "sns.heatmap(cm_gbt_gml, annot=True, fmt=\".3f\", linewidths=1, square = True, cmap = 'Blues_r');\n",
    "plt.ylabel('Actual label');\n",
    "plt.xlabel('Predicted label');\n",
    "plt.title(\"Confusion matrix\")\n",
    "\n",
    "plt.figure(figsize=(7,7))\n",
    "sns.heatmap(cm_gbt_norm_gml, annot=True, fmt=\".3f\", linewidths=1, square = True, cmap = 'Blues_r');\n",
    "plt.ylabel('Actual label');\n",
    "plt.xlabel('Predicted label');\n",
    "plt.title(\"Normalized confusion matrix\")"
   ]
  },
  {
   "cell_type": "code",
   "execution_count": 107,
   "id": "f3df8173",
   "metadata": {},
   "outputs": [
    {
     "data": {
      "image/png": "[encoded data removed]",
      "text/plain": [
       "<Figure size 432x288 with 1 Axes>"
      ]
     },
     "metadata": {
      "needs_background": "light"
     },
     "output_type": "display_data"
    }
   ],
   "source": [
    "skplt.metrics.plot_cumulative_gain(collision_ytest, XGB_prob_predictions)\n",
    "plt.show()"
   ]
  },
  {
   "cell_type": "code",
   "execution_count": 108,
   "id": "24ee5d86",
   "metadata": {},
   "outputs": [
    {
     "data": {
      "image/png": "[encoded data removed]",
      "text/plain": [
       "<Figure size 432x288 with 1 Axes>"
      ]
     },
     "metadata": {
      "needs_background": "light"
     },
     "output_type": "display_data"
    }
   ],
   "source": [
    "skplt.metrics.plot_lift_curve(collision_ytest, XGB_prob_predictions)\n",
    "plt.show()"
   ]
  },
  {
   "cell_type": "code",
   "execution_count": 58,
   "id": "f3c39afe",
   "metadata": {},
   "outputs": [
    {
     "data": {
      "text/plain": [
       "0.048454688318491354"
      ]
     },
     "execution_count": 58,
     "metadata": {},
     "output_type": "execute_result"
    }
   ],
   "source": [
    "score = f1_score(collision_ytest, preds_xgb)\n",
    "score"
   ]
  },
  {
   "cell_type": "code",
   "execution_count": 109,
   "id": "706bb7e9",
   "metadata": {},
   "outputs": [
    {
     "data": {
      "text/plain": [
       "0.02513245482950686"
      ]
     },
     "execution_count": 109,
     "metadata": {},
     "output_type": "execute_result"
    }
   ],
   "source": [
    "Recall = recall_score(collision_ytest, preds_xgb)\n",
    "Recall"
   ]
  },
  {
   "cell_type": "code",
   "execution_count": 110,
   "id": "02c5b7a2",
   "metadata": {},
   "outputs": [
    {
     "data": {
      "text/plain": [
       "0.6727272727272727"
      ]
     },
     "execution_count": 110,
     "metadata": {},
     "output_type": "execute_result"
    }
   ],
   "source": [
    "Precision = precision_score(collision_ytest, preds_xgb)\n",
    "Precision"
   ]
  },
  {
   "cell_type": "markdown",
   "id": "7ed86f6e",
   "metadata": {},
   "source": [
    "## LightGBOOST"
   ]
  },
  {
   "cell_type": "markdown",
   "id": "1ba9359f",
   "metadata": {},
   "source": [
    "LightGBM es un algoritmo de refuerzo (o también de potenciación) de gradientes basado en modelos de árboles de decisión. "
   ]
  },
  {
   "cell_type": "code",
   "execution_count": 59,
   "id": "5984474f",
   "metadata": {},
   "outputs": [
    {
     "name": "stderr",
     "output_type": "stream",
     "text": [
      "/Users/ramonguerreromorales/opt/anaconda3/envs/Practica1/lib/python3.9/site-packages/sklearn/preprocessing/_label.py:98: DataConversionWarning: A column-vector y was passed when a 1d array was expected. Please change the shape of y to (n_samples, ), for example using ravel().\n",
      "  y = column_or_1d(y, warn=True)\n",
      "/Users/ramonguerreromorales/opt/anaconda3/envs/Practica1/lib/python3.9/site-packages/sklearn/preprocessing/_label.py:133: DataConversionWarning: A column-vector y was passed when a 1d array was expected. Please change the shape of y to (n_samples, ), for example using ravel().\n",
      "  y = column_or_1d(y, warn=True)\n"
     ]
    },
    {
     "name": "stdout",
     "output_type": "stream",
     "text": [
      "El tiempo de ejecucion para lgbm es: 11.71943473815918\n"
     ]
    }
   ],
   "source": [
    "start_lgbm = time.time()\n",
    "\n",
    "model_lgbm = LGBMClassifier(random_state=2334)\n",
    "model_lgbm = model_lgbm.fit(collision_xtrain_l, collision_ytrain)\n",
    "\n",
    "end_lgbm = time.time()\n",
    "\n",
    "print(\"El tiempo de ejecucion para lgbm es:\", end_lgbm-start_lgbm)"
   ]
  },
  {
   "cell_type": "markdown",
   "id": "81efc4c4",
   "metadata": {},
   "source": [
    "### Guardamos el modelo"
   ]
  },
  {
   "cell_type": "code",
   "execution_count": 60,
   "id": "d8cebd40",
   "metadata": {},
   "outputs": [],
   "source": [
    "filename_lgbm = 'finalized_lgbm.sav'\n",
    "pickle.dump(model_lgbm, open(filename_lgbm, 'wb'))"
   ]
  },
  {
   "cell_type": "markdown",
   "id": "4baadc5e",
   "metadata": {},
   "source": [
    "### Cargamos el modelo"
   ]
  },
  {
   "cell_type": "code",
   "execution_count": 61,
   "id": "083c6109",
   "metadata": {},
   "outputs": [],
   "source": [
    "model_lgbm = pickle.load(open(filename_lgbm, 'rb'))"
   ]
  },
  {
   "cell_type": "markdown",
   "id": "63a11c34",
   "metadata": {},
   "source": [
    "### Vemos el modelo"
   ]
  },
  {
   "cell_type": "code",
   "execution_count": 62,
   "id": "d2d30089",
   "metadata": {},
   "outputs": [],
   "source": [
    "prediccion_lgbm = model_lgbm.predict(collision_xtest_l)"
   ]
  },
  {
   "cell_type": "code",
   "execution_count": 63,
   "id": "caf0b69e",
   "metadata": {},
   "outputs": [],
   "source": [
    "LGBM_prob_predictions = model_lgbm.predict_proba(collision_xtest_l)"
   ]
  },
  {
   "cell_type": "code",
   "execution_count": 64,
   "id": "f552dbea",
   "metadata": {},
   "outputs": [
    {
     "data": {
      "text/plain": [
       "0.9835955376400642"
      ]
     },
     "execution_count": 64,
     "metadata": {},
     "output_type": "execute_result"
    }
   ],
   "source": [
    "accuracy_score(collision_ytest, prediccion_lgbm)"
   ]
  },
  {
   "cell_type": "code",
   "execution_count": 65,
   "id": "f75584e7",
   "metadata": {},
   "outputs": [
    {
     "data": {
      "image/png": "[encoded data removed]",
      "text/plain": [
       "<Figure size 432x288 with 1 Axes>"
      ]
     },
     "metadata": {
      "needs_background": "light"
     },
     "output_type": "display_data"
    }
   ],
   "source": [
    "# keep probabilities for the positive outcome only\n",
    "LGBM_yhat = LGBM_prob_predictions[:, 1]\n",
    "# calculate roc curves\n",
    "fpr, tpr, thresholds = roc_curve(collision_ytest, LGBM_yhat)\n",
    "# plot the roc curve for the model\n",
    "plt.plot([0,1], [0,1], linestyle='--', label='No Skill')\n",
    "plt.plot(fpr, tpr, marker='.', label='LGBM')\n",
    "# axis labels\n",
    "plt.xlabel('False Positive Rate')\n",
    "plt.ylabel('True Positive Rate')\n",
    "plt.legend()\n",
    "# show the plot\n",
    "plt.show()"
   ]
  },
  {
   "cell_type": "code",
   "execution_count": 66,
   "id": "94afbecf",
   "metadata": {},
   "outputs": [
    {
     "data": {
      "text/plain": [
       "Text(0.5, 1.0, 'Normalized confusion matrix')"
      ]
     },
     "execution_count": 66,
     "metadata": {},
     "output_type": "execute_result"
    },
    {
     "data": {
      "image/png": "[encoded data removed]",
      "text/plain": [
       "<Figure size 504x504 with 2 Axes>"
      ]
     },
     "metadata": {
      "needs_background": "light"
     },
     "output_type": "display_data"
    },
    {
     "data": {
      "image/png": "[encoded data removed]",
      "text/plain": [
       "<Figure size 504x504 with 2 Axes>"
      ]
     },
     "metadata": {
      "needs_background": "light"
     },
     "output_type": "display_data"
    }
   ],
   "source": [
    "cm_gbt_gml= confusion_matrix(collision_ytest, prediccion_lgbm)\n",
    "cm_gbt_norm_gml = confusion_matrix(collision_ytest, prediccion_lgbm, normalize=\"true\")\n",
    "\n",
    "plt.figure(figsize=(7,7))\n",
    "sns.heatmap(cm_gbt_gml, annot=True, fmt=\".3f\", linewidths=1, square = True, cmap = 'Blues_r');\n",
    "plt.ylabel('Actual label');\n",
    "plt.xlabel('Predicted label');\n",
    "plt.title(\"Confusion matrix\")\n",
    "\n",
    "plt.figure(figsize=(7,7))\n",
    "sns.heatmap(cm_gbt_norm_gml, annot=True, fmt=\".3f\", linewidths=1, square = True, cmap = 'Blues_r');\n",
    "plt.ylabel('Actual label');\n",
    "plt.xlabel('Predicted label');\n",
    "plt.title(\"Normalized confusion matrix\")"
   ]
  },
  {
   "cell_type": "code",
   "execution_count": 111,
   "id": "cb6f20e0",
   "metadata": {},
   "outputs": [
    {
     "data": {
      "image/png": "[encoded data removed]",
      "text/plain": [
       "<Figure size 432x288 with 1 Axes>"
      ]
     },
     "metadata": {
      "needs_background": "light"
     },
     "output_type": "display_data"
    }
   ],
   "source": [
    "skplt.metrics.plot_cumulative_gain(collision_ytest, LGBM_prob_predictions)\n",
    "plt.show()"
   ]
  },
  {
   "cell_type": "code",
   "execution_count": 112,
   "id": "4cdb519d",
   "metadata": {},
   "outputs": [
    {
     "data": {
      "image/png": "[encoded data removed]",
      "text/plain": [
       "<Figure size 432x288 with 1 Axes>"
      ]
     },
     "metadata": {
      "needs_background": "light"
     },
     "output_type": "display_data"
    }
   ],
   "source": [
    "skplt.metrics.plot_lift_curve(collision_ytest, LGBM_prob_predictions)\n",
    "plt.show()"
   ]
  },
  {
   "cell_type": "code",
   "execution_count": 67,
   "id": "d3d2c435",
   "metadata": {},
   "outputs": [
    {
     "data": {
      "text/plain": [
       "0.033664410653071984"
      ]
     },
     "execution_count": 67,
     "metadata": {},
     "output_type": "execute_result"
    }
   ],
   "source": [
    "score = f1_score(collision_ytest, prediccion_lgbm)\n",
    "score"
   ]
  },
  {
   "cell_type": "code",
   "execution_count": 113,
   "id": "b5c90385",
   "metadata": {},
   "outputs": [
    {
     "data": {
      "text/plain": [
       "0.01734365801747951"
      ]
     },
     "execution_count": 113,
     "metadata": {},
     "output_type": "execute_result"
    }
   ],
   "source": [
    "Recall = recall_score(collision_ytest, prediccion_lgbm)\n",
    "Recall"
   ]
  },
  {
   "cell_type": "code",
   "execution_count": 114,
   "id": "65a376e1",
   "metadata": {},
   "outputs": [
    {
     "data": {
      "text/plain": [
       "0.5707898658718331"
      ]
     },
     "execution_count": 114,
     "metadata": {},
     "output_type": "execute_result"
    }
   ],
   "source": [
    "Precision = precision_score(collision_ytest, prediccion_lgbm)\n",
    "Precision"
   ]
  },
  {
   "cell_type": "markdown",
   "id": "c5351f0b",
   "metadata": {},
   "source": [
    "# Hiperparámetros"
   ]
  },
  {
   "cell_type": "markdown",
   "id": "97927185",
   "metadata": {},
   "source": [
    "Como mejor modelo elegimos el Random Forest dado que sus métricas nos parecen mejores que las de los demás modelos. \n",
    "\n",
    "Hemos observado que tiene unas mejores métricas recall, precisión y f-score además de tener una buena curva roc.  \n",
    "Solo encontramos una mala matriz de confusión que intentaremos mejorar mediante la manipulación de los pesos dentro de los hiperparámetros. \n",
    "\n",
    "Por tanto, como es el mejor modelo que se adapta a nuestras exigencias pasaremos a su optimización."
   ]
  },
  {
   "cell_type": "code",
   "execution_count": 68,
   "id": "72e243e4",
   "metadata": {
    "scrolled": true
   },
   "outputs": [
    {
     "name": "stderr",
     "output_type": "stream",
     "text": [
      "/Users/ramonguerreromorales/opt/anaconda3/envs/Practica1/lib/python3.9/site-packages/sklearn/model_selection/_search.py:292: UserWarning: The total space of parameters 1 is smaller than n_iter=10. Running 1 iterations. For exhaustive searches, use GridSearchCV.\n",
      "  warnings.warn(\n",
      "/Users/ramonguerreromorales/opt/anaconda3/envs/Practica1/lib/python3.9/site-packages/sklearn/model_selection/_validation.py:681: DataConversionWarning: A column-vector y was passed when a 1d array was expected. Please change the shape of y to (n_samples,), for example using ravel().\n",
      "  estimator.fit(X_train, y_train, **fit_params)\n",
      "/Users/ramonguerreromorales/opt/anaconda3/envs/Practica1/lib/python3.9/site-packages/sklearn/model_selection/_validation.py:681: DataConversionWarning: A column-vector y was passed when a 1d array was expected. Please change the shape of y to (n_samples,), for example using ravel().\n",
      "  estimator.fit(X_train, y_train, **fit_params)\n",
      "/Users/ramonguerreromorales/opt/anaconda3/envs/Practica1/lib/python3.9/site-packages/sklearn/model_selection/_validation.py:681: DataConversionWarning: A column-vector y was passed when a 1d array was expected. Please change the shape of y to (n_samples,), for example using ravel().\n",
      "  estimator.fit(X_train, y_train, **fit_params)\n",
      "/Users/ramonguerreromorales/opt/anaconda3/envs/Practica1/lib/python3.9/site-packages/sklearn/model_selection/_search.py:926: DataConversionWarning: A column-vector y was passed when a 1d array was expected. Please change the shape of y to (n_samples,), for example using ravel().\n",
      "  self.best_estimator_.fit(X, y, **fit_params)\n"
     ]
    },
    {
     "name": "stdout",
     "output_type": "stream",
     "text": [
      "El tiempo de ejecucion para RF con hiperparámetros es: 390.8093240261078\n",
      "{'n_estimators': 200, 'max_features': 'auto', 'max_depth': 4, 'criterion': 'gini', 'class_weight': {0: 0.6, 1: 1.8}}\n",
      "0.7628710376486683\n"
     ]
    }
   ],
   "source": [
    "### Parameter Tunning Optimization\n",
    "start_rf_hiper = time.time()\n",
    "\n",
    "param_grid = { \n",
    "    'n_estimators': [200],# poner tantos como se quiera probar\n",
    "    'max_features': ['auto'], #['auto', 'sqrt', 'log2']\n",
    "    'max_depth' : [4], # [4,5,6,7,8]\n",
    "    'criterion':['gini'],#['gini', 'entropy',\n",
    "    'class_weight' : [{0:0.6,1:1.8}]} \n",
    "    \n",
    "\n",
    "CV = RandomizedSearchCV(modelo, param_grid, cv=3, random_state=6777, n_jobs = -1)\n",
    "                  \n",
    "CV = CV.fit(collision_xtrain_l, collision_ytrain)  \n",
    "\n",
    "end_rf_hiper= time.time()\n",
    "\n",
    "print(\"El tiempo de ejecucion para RF con hiperparámetros es:\", end_rf_hiper-start_rf_hiper)\n",
    "\n",
    "print(CV.best_params_)    \n",
    "print(CV.best_score_)"
   ]
  },
  {
   "cell_type": "markdown",
   "id": "ede60db3",
   "metadata": {},
   "source": [
    "### Guardamos el RF con hiperparámetros"
   ]
  },
  {
   "cell_type": "code",
   "execution_count": 69,
   "id": "8d743bfe",
   "metadata": {},
   "outputs": [],
   "source": [
    "filename_rf_hiper = 'finalized_rf_hiper.sav'\n",
    "pickle.dump(CV, open(filename_rf_hiper, 'wb'))"
   ]
  },
  {
   "cell_type": "markdown",
   "id": "4e6364c3",
   "metadata": {},
   "source": [
    "### Cargamos RF con hiperparámetros con Pickle"
   ]
  },
  {
   "cell_type": "code",
   "execution_count": 70,
   "id": "acdf0a95",
   "metadata": {},
   "outputs": [],
   "source": [
    "filename_rf_hiper = 'finalized_rf_hiper.sav'\n",
    "CV = pickle.load(open(filename_rf_hiper, 'rb'))"
   ]
  },
  {
   "cell_type": "markdown",
   "id": "2b2b3c30",
   "metadata": {},
   "source": [
    "### Vemos el modelo"
   ]
  },
  {
   "cell_type": "code",
   "execution_count": 71,
   "id": "969b697d",
   "metadata": {},
   "outputs": [],
   "source": [
    "predictions_hiper = CV.predict(collision_xtest_l)"
   ]
  },
  {
   "cell_type": "code",
   "execution_count": 72,
   "id": "a8e96d73",
   "metadata": {},
   "outputs": [
    {
     "name": "stdout",
     "output_type": "stream",
     "text": [
      "Classification Report\n",
      "              precision    recall  f1-score   support\n",
      "\n",
      "           0       0.99      0.75      0.86   1318284\n",
      "           1       0.04      0.69      0.08     22083\n",
      "\n",
      "    accuracy                           0.75   1340367\n",
      "   macro avg       0.52      0.72      0.47   1340367\n",
      "weighted avg       0.98      0.75      0.84   1340367\n",
      "\n"
     ]
    }
   ],
   "source": [
    "print(\"Classification Report\")\n",
    "print(classification_report(collision_ytest, predictions_hiper))"
   ]
  },
  {
   "cell_type": "code",
   "execution_count": 73,
   "id": "d684028f",
   "metadata": {},
   "outputs": [
    {
     "data": {
      "text/plain": [
       "array([9.63919900e-02, 3.82462403e-01, 9.51720584e-02, 7.19570419e-03,\n",
       "       6.51366091e-02, 1.47146428e-01, 2.69847978e-02, 5.77697718e-03,\n",
       "       4.12793868e-03, 2.36518982e-03, 1.39918075e-01, 8.39492556e-03,\n",
       "       1.20251188e-02, 6.55458958e-03, 1.77223614e-04, 4.60403024e-05,\n",
       "       9.21566960e-05, 3.17742664e-05])"
      ]
     },
     "execution_count": 73,
     "metadata": {},
     "output_type": "execute_result"
    }
   ],
   "source": [
    "CV.best_estimator_.feature_importances_"
   ]
  },
  {
   "cell_type": "code",
   "execution_count": 74,
   "id": "80126449",
   "metadata": {},
   "outputs": [
    {
     "data": {
      "text/plain": [
       "array([[0.66019125, 0.33980875],\n",
       "       [0.36866902, 0.63133098],\n",
       "       [0.79447568, 0.20552432],\n",
       "       ...,\n",
       "       [0.84113082, 0.15886918],\n",
       "       [0.64083902, 0.35916098],\n",
       "       [0.28700817, 0.71299183]])"
      ]
     },
     "execution_count": 74,
     "metadata": {},
     "output_type": "execute_result"
    }
   ],
   "source": [
    "prob_predictions = CV.predict_proba(collision_xtest_l)\n",
    "prob_predictions"
   ]
  },
  {
   "cell_type": "code",
   "execution_count": 75,
   "id": "d775e364",
   "metadata": {},
   "outputs": [
    {
     "data": {
      "text/plain": [
       "0.6910745822578453"
      ]
     },
     "execution_count": 75,
     "metadata": {},
     "output_type": "execute_result"
    }
   ],
   "source": [
    "Recall = recall_score(collision_ytest, predictions_hiper)\n",
    "Recall"
   ]
  },
  {
   "cell_type": "code",
   "execution_count": 76,
   "id": "c21139c0",
   "metadata": {},
   "outputs": [
    {
     "data": {
      "text/plain": [
       "0.0444880420713861"
      ]
     },
     "execution_count": 76,
     "metadata": {},
     "output_type": "execute_result"
    }
   ],
   "source": [
    "Precision = precision_score(collision_ytest, predictions_hiper)\n",
    "Precision"
   ]
  },
  {
   "cell_type": "code",
   "execution_count": 77,
   "id": "8e146fb9",
   "metadata": {},
   "outputs": [
    {
     "data": {
      "image/png": "[encoded data removed]",
      "text/plain": [
       "<Figure size 648x648 with 2 Axes>"
      ]
     },
     "metadata": {
      "needs_background": "light"
     },
     "output_type": "display_data"
    }
   ],
   "source": [
    "cm_gbt = confusion_matrix(collision_ytest, predictions_hiper)\n",
    "\n",
    "plt.figure(figsize=(9,9))\n",
    "sns.heatmap(cm_gbt, annot=True, fmt=\".3f\", linewidths=.5, square = True, cmap = 'Blues_r');\n",
    "plt.ylabel('Actual label');"
   ]
  },
  {
   "cell_type": "code",
   "execution_count": 78,
   "id": "be05ece0",
   "metadata": {},
   "outputs": [
    {
     "name": "stderr",
     "output_type": "stream",
     "text": [
      "/Users/ramonguerreromorales/opt/anaconda3/envs/Practica1/lib/python3.9/site-packages/sklearn/utils/deprecation.py:87: FutureWarning: Function plot_confusion_matrix is deprecated; Function `plot_confusion_matrix` is deprecated in 1.0 and will be removed in 1.2. Use one of the class methods: ConfusionMatrixDisplay.from_predictions or ConfusionMatrixDisplay.from_estimator.\n",
      "  warnings.warn(msg, category=FutureWarning)\n"
     ]
    },
    {
     "name": "stdout",
     "output_type": "stream",
     "text": [
      "Confusion matrix, without normalization\n",
      "[[990509 327775]\n",
      " [  6822  15261]]\n"
     ]
    },
    {
     "name": "stderr",
     "output_type": "stream",
     "text": [
      "/Users/ramonguerreromorales/opt/anaconda3/envs/Practica1/lib/python3.9/site-packages/sklearn/utils/deprecation.py:87: FutureWarning: Function plot_confusion_matrix is deprecated; Function `plot_confusion_matrix` is deprecated in 1.0 and will be removed in 1.2. Use one of the class methods: ConfusionMatrixDisplay.from_predictions or ConfusionMatrixDisplay.from_estimator.\n",
      "  warnings.warn(msg, category=FutureWarning)\n"
     ]
    },
    {
     "name": "stdout",
     "output_type": "stream",
     "text": [
      "Normalized confusion matrix\n",
      "[[0.75136238 0.24863762]\n",
      " [0.30892542 0.69107458]]\n"
     ]
    },
    {
     "data": {
      "image/png": "[encoded data removed]",
      "text/plain": [
       "<Figure size 432x288 with 2 Axes>"
      ]
     },
     "metadata": {
      "needs_background": "light"
     },
     "output_type": "display_data"
    },
    {
     "data": {
      "image/png": "[encoded data removed]",
      "text/plain": [
       "<Figure size 432x288 with 2 Axes>"
      ]
     },
     "metadata": {
      "needs_background": "light"
     },
     "output_type": "display_data"
    }
   ],
   "source": [
    "# Plot non-normalized confusion matrix\n",
    "titles_options = [(\"Confusion matrix, without normalization\", None),\n",
    "                  (\"Normalized confusion matrix\", 'true')]\n",
    "for title, normalize in titles_options:\n",
    "    disp = plot_confusion_matrix(CV, collision_xtest_l, collision_ytest,\n",
    "                                 # display_labels=ytest,\n",
    "                                 cmap=plt.cm.Blues,\n",
    "                                 normalize=normalize)\n",
    "    disp.ax_.set_title(title)\n",
    "\n",
    "    print(title)\n",
    "    print(disp.confusion_matrix)\n",
    "\n",
    "plt.show()"
   ]
  },
  {
   "cell_type": "code",
   "execution_count": 79,
   "id": "aeb159b8",
   "metadata": {
    "scrolled": true
   },
   "outputs": [
    {
     "data": {
      "image/png": "[encoded data removed]",
      "text/plain": [
       "<Figure size 432x288 with 1 Axes>"
      ]
     },
     "metadata": {
      "needs_background": "light"
     },
     "output_type": "display_data"
    }
   ],
   "source": [
    "# keep probabilities for the positive outcome only\n",
    "yhat = prob_predictions[:, 1]\n",
    "# calculate roc curves\n",
    "fpr, tpr, thresholds = roc_curve(collision_ytest, yhat)\n",
    "# plot the roc curve for the model\n",
    "plt.plot([0,1], [0,1], linestyle='--', label='No Skill')\n",
    "plt.plot(fpr, tpr, marker='.', label='Random Forest')\n",
    "# axis labels\n",
    "plt.xlabel('False Positive Rate')\n",
    "plt.ylabel('True Positive Rate')\n",
    "plt.legend()\n",
    "# show the plot\n",
    "plt.show()"
   ]
  },
  {
   "cell_type": "code",
   "execution_count": 116,
   "id": "eb03833d",
   "metadata": {},
   "outputs": [
    {
     "name": "stdout",
     "output_type": "stream",
     "text": [
      "AUC: 0.721\n"
     ]
    }
   ],
   "source": [
    "auc = metrics.roc_auc_score(collision_ytest, predictions_hiper)\n",
    "print('AUC: %.3f' % auc)"
   ]
  },
  {
   "cell_type": "code",
   "execution_count": 80,
   "id": "625cb43d",
   "metadata": {},
   "outputs": [],
   "source": [
    "# calculate the g-mean for each threshold\n",
    "gmeans = np.sqrt(tpr * (1-fpr))"
   ]
  },
  {
   "cell_type": "code",
   "execution_count": 81,
   "id": "8dfe724a",
   "metadata": {},
   "outputs": [
    {
     "name": "stdout",
     "output_type": "stream",
     "text": [
      "Best Threshold=0.472172, G-Mean=0.724\n"
     ]
    }
   ],
   "source": [
    "# locate the index of the largest g-mean\n",
    "ix = np.argmax(gmeans)\n",
    "print('Best Threshold=%f, G-Mean=%.3f' % (thresholds[ix], gmeans[ix]))"
   ]
  },
  {
   "cell_type": "code",
   "execution_count": 82,
   "id": "f5c0eac8",
   "metadata": {},
   "outputs": [
    {
     "data": {
      "image/png": "[encoded data removed]",
      "text/plain": [
       "<Figure size 432x288 with 1 Axes>"
      ]
     },
     "metadata": {
      "needs_background": "light"
     },
     "output_type": "display_data"
    }
   ],
   "source": [
    "# plot the roc curve for the model\n",
    "plt.plot([0,1], [0,1], linestyle='--', label='No Skill')\n",
    "plt.plot(fpr, tpr, marker='.', label='Random Forest')\n",
    "plt.scatter(fpr[ix], tpr[ix], s=100, marker='o', color='black', label='Best')\n",
    "# axis labels\n",
    "plt.xlabel('False Positive Rate')\n",
    "plt.ylabel('True Positive Rate')\n",
    "plt.legend()\n",
    "# show the plot\n",
    "plt.show()"
   ]
  },
  {
   "cell_type": "code",
   "execution_count": 83,
   "id": "97ecee54",
   "metadata": {},
   "outputs": [],
   "source": [
    "# calculate pr-curve\n",
    "precision, recall, thresholds = precision_recall_curve(collision_ytest, yhat)"
   ]
  },
  {
   "cell_type": "code",
   "execution_count": 84,
   "id": "895e431d",
   "metadata": {},
   "outputs": [
    {
     "data": {
      "image/png": "[encoded data removed]",
      "text/plain": [
       "<Figure size 432x288 with 1 Axes>"
      ]
     },
     "metadata": {
      "needs_background": "light"
     },
     "output_type": "display_data"
    }
   ],
   "source": [
    "# plot the roc curve for the model\n",
    "no_skill = len(collision_ytest[collision_ytest==1]) / len(collision_ytest)\n",
    "plt.plot([0,1], [no_skill,no_skill], linestyle='--', label='No Skill')\n",
    "plt.plot(recall, precision, marker='.', label='Random Forest')\n",
    "# axis labels\n",
    "plt.xlabel('Recall')\n",
    "plt.ylabel('Precision')\n",
    "plt.legend()\n",
    "# show the plot\n",
    "plt.show()"
   ]
  },
  {
   "cell_type": "code",
   "execution_count": 85,
   "id": "c3637d56",
   "metadata": {},
   "outputs": [
    {
     "name": "stdout",
     "output_type": "stream",
     "text": [
      "Best Threshold=0.641956, F-Score=0.154\n"
     ]
    },
    {
     "data": {
      "image/png": "[encoded data removed]",
      "text/plain": [
       "<Figure size 432x288 with 1 Axes>"
      ]
     },
     "metadata": {
      "needs_background": "light"
     },
     "output_type": "display_data"
    }
   ],
   "source": [
    "# convert to f score\n",
    "fscore = (2 * precision * recall) / (precision + recall)\n",
    "# locate the index of the largest f score\n",
    "ix = np.argmax(fscore)\n",
    "print('Best Threshold=%f, F-Score=%.3f' % (thresholds[ix], fscore[ix]))\n",
    "# plot the roc curve for the model\n",
    "no_skill = len(collision_ytest[collision_ytest==1]) / len(collision_ytest)\n",
    "plt.plot([0,1], [no_skill,no_skill], linestyle='--', label='No Skill')\n",
    "plt.plot(recall, precision, marker='.', label='Random Forest')\n",
    "plt.scatter(recall[ix], precision[ix], s=100, marker='o', color='black', label='Best')\n",
    "# axis labels\n",
    "plt.xlabel('Recall')\n",
    "plt.ylabel('Precision')\n",
    "plt.legend()\n",
    "# show the plot\n",
    "plt.show()"
   ]
  },
  {
   "cell_type": "code",
   "execution_count": 86,
   "id": "aaae8c0c",
   "metadata": {},
   "outputs": [
    {
     "name": "stdout",
     "output_type": "stream",
     "text": [
      "F-Score: 0.08359\n"
     ]
    }
   ],
   "source": [
    "# evaluate the model\n",
    "score = f1_score(collision_ytest, predictions_hiper)\n",
    "print('F-Score: %.5f' % score)"
   ]
  },
  {
   "cell_type": "code",
   "execution_count": 87,
   "id": "3904d9ac",
   "metadata": {},
   "outputs": [
    {
     "data": {
      "image/png": "[encoded data removed]",
      "text/plain": [
       "<Figure size 432x288 with 1 Axes>"
      ]
     },
     "metadata": {
      "needs_background": "light"
     },
     "output_type": "display_data"
    }
   ],
   "source": [
    "import scikitplot as skplt\n",
    "import matplotlib.pyplot as plt\n",
    "\n",
    "skplt.metrics.plot_cumulative_gain(collision_ytest, prob_predictions)\n",
    "plt.show()"
   ]
  },
  {
   "cell_type": "code",
   "execution_count": 88,
   "id": "458ab092",
   "metadata": {},
   "outputs": [
    {
     "data": {
      "image/png": "[encoded data removed]",
      "text/plain": [
       "<Figure size 432x288 with 1 Axes>"
      ]
     },
     "metadata": {
      "needs_background": "light"
     },
     "output_type": "display_data"
    }
   ],
   "source": [
    "skplt.metrics.plot_lift_curve(collision_ytest, prob_predictions)\n",
    "plt.show()"
   ]
  },
  {
   "cell_type": "markdown",
   "id": "41c5c75a",
   "metadata": {},
   "source": [
    "Finalmente hemos obtenido un buen modelo mediante la optimización del Random Forest, obteniendo incluso mejor curva roc y matriz de confusión. \n",
    "\n",
    "Nuestro modelo acierta los 0 en un 75% y los 1 en un 69% además de tener un score de 0.721 en la curva roc. \n",
    "\n",
    "En el siguiente notebook seguiremos con la interpretabilidad del modelo y sus variables."
   ]
  },
  {
   "cell_type": "code",
   "execution_count": null,
   "id": "87339b6e",
   "metadata": {},
   "outputs": [],
   "source": []
  }
 ],
 "metadata": {
  "kernelspec": {
   "display_name": "Python [conda env:Practica1]",
   "language": "python",
   "name": "conda-env-Practica1-py"
  },
  "language_info": {
   "codemirror_mode": {
    "name": "ipython",
    "version": 3
   },
   "file_extension": ".py",
   "mimetype": "text/x-python",
   "name": "python",
   "nbconvert_exporter": "python",
   "pygments_lexer": "ipython3",
   "version": "3.9.7"
  }
 },
 "nbformat": 4,
 "nbformat_minor": 5
}
